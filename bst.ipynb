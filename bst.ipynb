{
 "cells": [
  {
   "attachments": {},
   "cell_type": "markdown",
   "metadata": {},
   "source": [
    "## Find Kth largest value in BST.\n",
    "\n",
    "Write a function that takes in a Binary Search Tree and a positive integer K and returns the Kth largest integer contained in the BST.\n",
    "\n",
    "Assumptions:\n",
    "- Only integers in the BST\n",
    "- K is less than or equal to the no.of nodes in the BST\n",
    "- Duplicate integers are treated as distinct values"
   ]
  },
  {
   "cell_type": "code",
   "execution_count": null,
   "metadata": {},
   "outputs": [],
   "source": [
    "'''\n",
    "Finding Kth largest value in BST\n",
    "BST Property: left child node <= root < right child node\n",
    "A node is said to be a valid BST node iff it satisfies the BST property.\n",
    "\n",
    "Approach 1: Inorder traversal on the BST will provide us the sorted order of the nodes. O(N) Time and O(N) space. \n",
    "Problem: The problem with this approach is we are sorting the nodes in ascending order. \n",
    "\n",
    "Another Approach: Reverse Inorder Traversal without storing the output. All we need is to keep track of #visited and last_value of the node.\n",
    "O(H+K) Time - H+K is to reach right-end of the node, we have to traverse through the height of the tree. \n",
    "O(H) space - we are using recursive call, therefore storing the nodes upto maximum of the H nodes.\n",
    "'''\n",
    "\n",
    "# BST Class\n",
    "class BinarySearchTree:\n",
    "    def __init__(self, value, left=None, right=None):\n",
    "        self.value = value\n",
    "        self.left = left\n",
    "        self.right = right\n",
    "\n",
    "# Approach 1: Inorder Traversal\n",
    "# O(N) time | O(N) space\n",
    "def find_kth_largest_val_BST_inorder_traversal(tree, k):\n",
    "    sortedNodeValues = []\n",
    "    inorderTraversal(tree, sortedNodeValues)\n",
    "    return sortedNodeValues[len(sortedNodeValues) - k]\n",
    "\n",
    "def inorderTraversal(node, sortedNodeValues):\n",
    "    if node == None:\n",
    "        return\n",
    "    inorderTraversal(node.left, sortedNodeValues)\n",
    "    sortedNodeValues.append(node.value)\n",
    "    inorderTraversal(node.right, sortedNodeValues)\n",
    "\n",
    "# Approach 2: Reverse Inorder Traversal\n",
    "# O(H+K) time | O(H) space\n",
    "class TreeInfo:\n",
    "    def __init__(self, numOf_nodes_visited, last_visited_node):\n",
    "        self.numOf_nodes_visited = numOf_nodes_visited\n",
    "        self.last_visited_node = last_visited_node\n",
    "\n",
    "def find_kth_largest_val_BST_reverse_inorder_traversal(tree, k):\n",
    "    treeInfo = TreeInfo(0, -1)\n",
    "    reverse_inorder_traversal(tree, k, treeInfo)\n",
    "    return treeInfo.last_visited_node\n",
    "\n",
    "def reverse_inorder_traversal(node, k, treeInfo):\n",
    "    if node == None or treeInfo.numOf_nodes_visited >= k:\n",
    "        return\n",
    "    reverse_inorder_traversal(node.right, k, treeInfo)\n",
    "    if treeInfo.numOf_nodes_visited < k:\n",
    "        treeInfo.numOf_nodes_visited += 1\n",
    "        treeInfo.last_visited_node = node.value\n",
    "        reverse_inorder_traversal(node.left, k, treeInfo)\n",
    "\n"
   ]
  },
  {
   "cell_type": "code",
   "execution_count": null,
   "metadata": {},
   "outputs": [],
   "source": []
  }
 ],
 "metadata": {
  "language_info": {
   "name": "python"
  },
  "orig_nbformat": 4
 },
 "nbformat": 4,
 "nbformat_minor": 2
}
